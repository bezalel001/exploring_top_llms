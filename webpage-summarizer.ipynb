{
 "cells": [
  {
   "cell_type": "markdown",
   "id": "4a13c567",
   "metadata": {},
   "source": [
    "# Web page Summarizer"
   ]
  },
  {
   "cell_type": "code",
   "execution_count": 1,
   "id": "829bc0ae",
   "metadata": {},
   "outputs": [],
   "source": [
    "import os\n",
    "from dotenv import load_dotenv\n",
    "from scraper import fetch_website_contents\n",
    "from extract_pdf import extract_pdf_text_any\n",
    "from IPython.display import Markdown, display\n",
    "from openai import OpenAI\n"
   ]
  },
  {
   "cell_type": "markdown",
   "id": "02e8ed38",
   "metadata": {},
   "source": [
    "### Connect to LLMs"
   ]
  },
  {
   "cell_type": "code",
   "execution_count": 2,
   "id": "6ac97c0a",
   "metadata": {},
   "outputs": [
    {
     "name": "stdout",
     "output_type": "stream",
     "text": [
      "API key is valid\n"
     ]
    }
   ],
   "source": [
    "\n",
    "load_dotenv(override=True)\n",
    "api_key = os.getenv('OPENAI_API_KEY')\n",
    "\n",
    "if not api_key:\n",
    "    print('No API key found - please set the OPENAI_API_KEY environment variable')\n",
    "elif not api_key.startswith('sk-proj'):\n",
    "    print('Invalid API key - please use the right project API key')\n",
    "elif api_key.strip() != api_key:\n",
    "    print('API key has whitespace - please check the OPENAI_API_KEY environment variable')\n",
    "else:\n",
    "    print('API key is valid')"
   ]
  },
  {
   "cell_type": "markdown",
   "id": "89ed5dd8",
   "metadata": {},
   "source": [
    "### Call openAI LLM"
   ]
  },
  {
   "cell_type": "code",
   "execution_count": 3,
   "id": "af4d1ad9",
   "metadata": {},
   "outputs": [
    {
     "data": {
      "text/plain": [
       "[{'role': 'user', 'content': 'Hello, GPT! This is my first time using you.'}]"
      ]
     },
     "execution_count": 3,
     "metadata": {},
     "output_type": "execute_result"
    }
   ],
   "source": [
    "message = 'Hello, GPT! This is my first time using you.'\n",
    "\n",
    "messages = [{'role': 'user', 'content': message}]\n",
    "\n",
    "messages"
   ]
  },
  {
   "cell_type": "code",
   "execution_count": 4,
   "id": "b3ba7d95",
   "metadata": {},
   "outputs": [
    {
     "data": {
      "text/plain": [
       "'Hi there! Welcome — I’m glad you’re here. I’m ChatGPT, and I can help with lots of things like explaining ideas, writing and editing, brainstorming, coding help, planning, and more.\\n\\nA quick idea of what I can do:\\n- Explain concepts in simple terms\\n- Draft or edit emails, essays, resumes, or social posts\\n- Summarize articles or long texts\\n- Help you plan projects, trips, or study schedules\\n- Debug or write code (and explain it)\\n- Brainstorm ideas or organize tasks\\n- Translate or practice a new language\\n\\nHow to get started:\\n- Just ask a question or describe a task. The more specific you are, the better I can help.\\n- Tell me your target format if you have one (bullet list, steps, a short answer, code, etc.).\\n- If you share context or constraints (tone, length, audience, deadline), I’ll tailor the response.\\n\\nA few starter prompts you can copy-paste:\\n- “Explain quantum computing in simple terms.”\\n- “Draft a friendly email to Jane asking for feedback on my project.”\\n- “Create a 3-day study plan to learn Python basics.”\\n- “Summarize this article: [paste text].”\\n- “Help me brainstorm ideas for a birthday party with a $50 budget.”\\n\\nIf you’re curious about something specific right now, tell me what you want to do and I’ll dive in. How would you like to start?'"
      ]
     },
     "execution_count": 4,
     "metadata": {},
     "output_type": "execute_result"
    }
   ],
   "source": [
    "openai = OpenAI()\n",
    "\n",
    "response = openai.chat.completions.create(model='gpt-5-nano', messages=messages)\n",
    "\n",
    "response.choices[0].message.content"
   ]
  },
  {
   "cell_type": "markdown",
   "id": "5dc92732",
   "metadata": {},
   "source": [
    "## Web Summariser"
   ]
  },
  {
   "cell_type": "code",
   "execution_count": 5,
   "id": "3dd95b58",
   "metadata": {},
   "outputs": [
    {
     "name": "stdout",
     "output_type": "stream",
     "text": [
      "Jobs | Dynatrace Careers\n",
      "\n",
      "All Dynatrace jobs\n",
      "Innovate, push boundaries, and make big things happen alongside a highly skilled and motivated team.\n",
      "Spotlight jobs\n",
      "Senior AI Software Developer & Mentor\n",
      "Linz, Hagenberg, Austria\n",
      "View opportunity\n",
      "Senior Fullstack Engineer (Java & React)\n",
      "Linz, Austria\n",
      "View opportunity\n",
      "Senior Product Security Engineer\n",
      "Linz, Austria\n",
      "View opportunity\n",
      "Principal Software Engineer\n",
      "Linz, Austria\n",
      "View opportunity\n",
      "Senior Software Engineer (Kubernetes)\n",
      "Linz, Austria\n",
      "View opportunity\n",
      "Search jobs\n",
      "Saved jobs\n",
      "List view\n",
      "Grid view\n",
      "Team\n",
      "Select...\n",
      "Country\n",
      "Select...\n",
      "City\n",
      "Select...\n",
      "Work Model\n",
      "Select...\n",
      "Clear all filters\n",
      "Saved jobs\n",
      "List view\n",
      "Grid view\n",
      "Dynatrace takes the security and privacy of prospective employees seriously.\n",
      "Please be cautious of phishing, scams, and other fraudulent job-related communications that claim to be from our company or affiliated with us. Don’t respond, click on any links, or download any attachments from an email that might be fraudulent.\n",
      "Be aware that bogus or fictitious job offers can sometimes be posted on various free online job boards and websites. If you find a suspicious job that claims to be from Dynatrace, we recommend that you cross-check it via our\n",
      "Dynatrace Careers\n",
      "page.\n",
      "We will ALWAYS:\n",
      "Conduct Dynatrace\n",
      "interviews\n",
      "over the phone or Zoom.\n",
      "Accept\n",
      "job applications\n",
      "submitted via\n",
      "careers.dynatrace.com\n",
      "or our partner job sites.\n",
      "Make\n",
      "employment offers\n",
      "through a Dynatrace Recruiter, Hiring Manager, or Talent Acquisition Partner with a\n",
      "@dynatrace.com\n",
      "email address only.\n",
      "We will NEVER:\n",
      "Accept job applications via email, direct messages on social media, or any other unofficial channels.\n",
      "Text or otherwise contact you via whatsapp or similar platforms about an interview or offer of employment, unless you provide your consent to Dynatrace.\n",
      "Ask you to pay any sort of fee or transfer any money to us during the recruitment process to apply for a job or purchase any equipment.\n",
      "Ask for sensitive personal information such as your passpo\n"
     ]
    }
   ],
   "source": [
    "dt_careers = fetch_website_contents('https://careers.dynatrace.com/jobs/')\n",
    "print(dt_careers)"
   ]
  },
  {
   "cell_type": "markdown",
   "id": "6d3d7517",
   "metadata": {},
   "source": [
    "### Prompt types\n",
    "- A System Prompt tells an LLM what task it is performing and what tone it should use\n",
    "- A User Prompt is the conversation starter that a user expect and LLM to reply to"
   ]
  },
  {
   "cell_type": "code",
   "execution_count": 6,
   "id": "d5461baa",
   "metadata": {},
   "outputs": [],
   "source": [
    "system_prompt = \"\"\"\n",
    "You are a snarky assistant that analyzes the contents of a a website, and provides a short, snarky, humorous summary,\n",
    "ignoring text that might be navigation related.\n",
    "Respond in markdown. Do not mark the markdown in a code block - respond just with the markdown.\n",
    "\"\"\"\n"
   ]
  },
  {
   "cell_type": "code",
   "execution_count": 7,
   "id": "9e109bb1",
   "metadata": {},
   "outputs": [],
   "source": [
    "user_prompt = \"\"\"\n",
    "Here are the contents of the website.\n",
    "Provide a short summary of this website. Focusing on AI releated roles.\n",
    "If it includes news or announcements, then summarize these too.\n",
    "\"\"\"\n",
    "\n",
    "\n"
   ]
  },
  {
   "cell_type": "markdown",
   "id": "ed35beea",
   "metadata": {},
   "source": [
    "### Messages\n",
    "\n",
    "The API from OpenAI expects to receive messages in a particular structure. Many of the other APIs share this structure:\n",
    "```\n",
    "[\n",
    "    {'role': 'system', 'content': 'system message goes here'},\n",
    "    {'role': 'user', 'content': 'user message goes here'}\n",
    "]\n",
    "```"
   ]
  },
  {
   "cell_type": "code",
   "execution_count": 8,
   "id": "1da7ca06",
   "metadata": {},
   "outputs": [
    {
     "data": {
      "text/plain": [
       "'2 + 2 equals 4.'"
      ]
     },
     "execution_count": 8,
     "metadata": {},
     "output_type": "execute_result"
    }
   ],
   "source": [
    "# simple message example\n",
    "messages = [\n",
    "    {'role': 'system', 'content': 'You are helpful assistant'},\n",
    "    {'role': 'user', 'content': 'What is 2 + 2?'}\n",
    "]\n",
    "\n",
    "response = openai.chat.completions.create(model='gpt-4.1-nano', messages=messages)\n",
    "response.choices[0].message.content"
   ]
  },
  {
   "cell_type": "code",
   "execution_count": 9,
   "id": "aff86af7",
   "metadata": {},
   "outputs": [],
   "source": [
    "# the following function creates the format of the LLM message structure\n",
    "def messages_for(website):\n",
    "    return [\n",
    "        {'role': 'system', 'content': system_prompt},\n",
    "        {'role': 'user', 'content': user_prompt + website}\n",
    "    ]"
   ]
  },
  {
   "cell_type": "code",
   "execution_count": 10,
   "id": "6f71c5ed",
   "metadata": {},
   "outputs": [
    {
     "data": {
      "text/plain": [
       "[{'role': 'system',\n",
       "  'content': '\\nYou are a snarky assistant that analyzes the contents of a a website, and provides a short, snarky, humorous summary,\\nignoring text that might be navigation related.\\nRespond in markdown. Do not mark the markdown in a code block - respond just with the markdown.\\n'},\n",
       " {'role': 'user',\n",
       "  'content': '\\nHere are the contents of the website.\\nProvide a short summary of this website. Focusing on AI releated roles.\\nIf it includes news or announcements, then summarize these too.\\nJobs | Dynatrace Careers\\n\\nAll Dynatrace jobs\\nInnovate, push boundaries, and make big things happen alongside a\\u202fhighly skilled\\u202fand motivated team.\\nSpotlight jobs\\nSenior AI Software Developer & Mentor\\nLinz, Hagenberg, Austria\\nView opportunity\\nSenior Fullstack Engineer (Java & React)\\nLinz, Austria\\nView opportunity\\nSenior Product Security Engineer\\nLinz, Austria\\nView opportunity\\nPrincipal Software Engineer\\nLinz, Austria\\nView opportunity\\nSenior Software Engineer (Kubernetes)\\nLinz, Austria\\nView opportunity\\nSearch jobs\\nSaved jobs\\nList view\\nGrid view\\nTeam\\nSelect...\\nCountry\\nSelect...\\nCity\\nSelect...\\nWork Model\\nSelect...\\nClear all filters\\nSaved jobs\\nList view\\nGrid view\\nDynatrace takes the security and privacy of prospective employees seriously.\\nPlease be cautious of phishing, scams, and other fraudulent job-related communications that claim to be from our company or affiliated with us. Don’t respond, click on any links, or download any attachments from an email that might be fraudulent.\\nBe aware that bogus or fictitious job offers can sometimes be posted on various free online job boards and websites. If you find a suspicious job that claims to be from Dynatrace, we recommend that you cross-check it via our\\nDynatrace Careers\\npage.\\nWe will ALWAYS:\\nConduct Dynatrace\\ninterviews\\nover the phone or Zoom.\\nAccept\\njob applications\\nsubmitted via\\ncareers.dynatrace.com\\nor our partner job sites.\\nMake\\nemployment offers\\nthrough a Dynatrace Recruiter, Hiring Manager, or Talent Acquisition Partner with a\\n@dynatrace.com\\nemail address only.\\nWe will NEVER:\\nAccept job applications via email, direct messages on social media, or any other unofficial channels.\\nText or otherwise contact you via whatsapp or similar platforms about an interview or offer of employment, unless you provide your consent to Dynatrace.\\nAsk you to pay any sort of fee or transfer any money to us during the recruitment process to apply for a job or purchase any equipment.\\nAsk for sensitive personal information such as your passpo'}]"
      ]
     },
     "execution_count": 10,
     "metadata": {},
     "output_type": "execute_result"
    }
   ],
   "source": [
    "messages_for(dt_careers)"
   ]
  },
  {
   "cell_type": "markdown",
   "id": "e7c11ffa",
   "metadata": {},
   "source": [
    "### The actual summarizer function"
   ]
  },
  {
   "cell_type": "code",
   "execution_count": 11,
   "id": "e0f7e025",
   "metadata": {},
   "outputs": [],
   "source": [
    "# Call openAPI  API\n",
    "\n",
    "def summarize(url):\n",
    "    website = fetch_website_contents(url)\n",
    "    response = openai.chat.completions.create(model='gpt-4.1-mini', messages=messages_for(website))\n",
    "    return response.choices[0].message.content"
   ]
  },
  {
   "cell_type": "code",
   "execution_count": 12,
   "id": "fbe6a469",
   "metadata": {},
   "outputs": [
    {
     "data": {
      "text/plain": [
       "'# Dynatrace Careers: AI Job Edition\\n\\nLooking to merge your AI wizardry with job hunting? Dynatrace has a spotlight on a **Senior AI Software Developer & Mentor** role in Austria, clearly seeking someone who can code and also school others in AI sorcery. Other gigs are mostly your usual suspects—fullstack, security, and Kubernetes engineers—all seasoned senior roles.\\n\\nIn case you’re wondering, they don’t fall for shady recruitment scams. They’re basically the \"official mafia\" of job offers: only calls on Zoom or phone, proper @dynatrace.com emails, and zero requests for your life\\'s savings or passport info. So, if you stumble across a “Dynatrace job” promising you’ll make AI fly while needing a bribe—run.\\n\\nNo juicy news or announcements here, just a straightforward, no-nonsense job board with a sprinkle of AI brilliance and a hard line on recruitment scams.'"
      ]
     },
     "execution_count": 12,
     "metadata": {},
     "output_type": "execute_result"
    }
   ],
   "source": [
    "summarize('https://careers.dynatrace.com/jobs/')"
   ]
  },
  {
   "cell_type": "code",
   "execution_count": 13,
   "id": "ab867cb1",
   "metadata": {},
   "outputs": [],
   "source": [
    "# Display the output nicely\n",
    "\n",
    "def display_summary(url):\n",
    "    summary = summarize(url)\n",
    "    display(Markdown(summary))"
   ]
  },
  {
   "cell_type": "code",
   "execution_count": 14,
   "id": "c2b67967",
   "metadata": {},
   "outputs": [
    {
     "data": {
      "text/markdown": [
       "# Dynatrace Careers: AI Edition (aka Where the Robots Get Their Code)\n",
       "\n",
       "Looking to get your hands dirty in AI at Dynatrace? You're in luck! They've got a **Senior AI Software Developer & Mentor** spot open in Austria. So if you fancy yourself a brainy coder who can both create AI magic and beam up some wisdom to juniors, this is your stage.\n",
       "\n",
       "Other tech roles abound, but if you’re after AI, keep your eyes on Linz and Hagenberg, Austria for that AI guru gig. \n",
       "\n",
       "On the announcements front, it’s mostly a PSA about job scams. Dynatrace wants to make crystal clear they only do legit hiring via their official sites and emails, so don’t fall for any shady \"We want your money and soul\" job scams posing as them. Interview calls over Zoom, no WhatsApp stalking, no money transfers. Got it? Good.\n",
       "\n",
       "So, if you want to innovate with AI and avoid scams, Dynatrace is waving for you from Austria. Just bring your coding chops and a healthy skepticism for weird job offers."
      ],
      "text/plain": [
       "<IPython.core.display.Markdown object>"
      ]
     },
     "metadata": {},
     "output_type": "display_data"
    }
   ],
   "source": [
    "display_summary('https://careers.dynatrace.com/jobs/')"
   ]
  },
  {
   "cell_type": "code",
   "execution_count": 15,
   "id": "4757a75e",
   "metadata": {},
   "outputs": [
    {
     "data": {
      "text/markdown": [
       "Ah, CNN’s website: the digital newsroom buffet where you can feast on world drama, politics, and the occasional tech blip—if you manage to survive the ad onslaught. But when it comes to AI roles or news? Nada. The site is more about global crises, elections, and celebrity gossip than artificial intellects taking over the planet. If you want AI job listings or updates, you might want to look elsewhere because here it’s all “news, news, and more news” with a sprinkle of “we value your feedback” on ad annoyances.\n",
       "\n",
       "In summary? CNN’s website is your go-to for breaking news, not AI careers or announcements—unless the AI uprising is the next headline, and then they’ll have you covered. Until then, just enjoy the non-AI related chaos."
      ],
      "text/plain": [
       "<IPython.core.display.Markdown object>"
      ]
     },
     "metadata": {},
     "output_type": "display_data"
    }
   ],
   "source": [
    "display_summary('https://cnn.com')"
   ]
  },
  {
   "cell_type": "code",
   "execution_count": 16,
   "id": "fbce4c2a",
   "metadata": {},
   "outputs": [
    {
     "data": {
      "text/markdown": [
       "# Anthropic: AI with a Side of Safety and Existential Caution\n",
       "\n",
       "So, Anthropic is basically that public benefit corporation trying to make AI that’s smart *and* safe because apparently, AI apocalypse is so 2020. Their flagship stuff—Claude and its spinoffs Sonnet and Haiku (version 4.5 if you’re counting)—are designed to be top-notch at agents, coding, and general computer wizardry. \n",
       "\n",
       "They’re super serious about “securing benefits and mitigating risks,” which is just a fancy way of saying \"Don’t let our AI go all Skynet.\" They throw around words like \"Responsible Scaling Policy\" and have a \"Trust Center\" because, hey, transparency in AI is the new black.\n",
       "\n",
       "If you’re hunting AI gigs, Anthropic’s careers page (buried somewhere in that menu) is where the action is. They’re all about research, engineering, and developer platforms for those who want to build on top of their AI magic.\n",
       "\n",
       "**News flash:** They recently dropped Claude Sonnet 4.5 and Claude Haiku 4.5—because what’s better than poetry-themed AI names? They’re bragging about managing context better and generally being the \"best model in the world\" for smart tasks.\n",
       "\n",
       "In summary: Anthropic is your go-to if you want AI that’s powerful enough to impress but tame enough not to destroy humanity. And yes, they have apps and platforms if you want to mess around with their brainchildren."
      ],
      "text/plain": [
       "<IPython.core.display.Markdown object>"
      ]
     },
     "metadata": {},
     "output_type": "display_data"
    }
   ],
   "source": [
    "display_summary('https://anthropic.com')"
   ]
  },
  {
   "cell_type": "code",
   "execution_count": 17,
   "id": "b9bd1687",
   "metadata": {},
   "outputs": [
    {
     "data": {
      "text/markdown": [
       "Ah yes, OpenAI's treasure trove of AI wizardry. The site is basically a playground for AI nerds and code sorcerers with a heavy focus on the latest and greatest AI research projects like GPT-4.5, GPT-5, and their mischievous sibling models (o3, o4-mini, and the cryptically named o1 and 4o). They've got a Research Residency for those who want to dive deep into AI black magic and safety procedures to keep the robots from taking over your toaster.\n",
       "\n",
       "If you're hunting for AI gigs, skim the Careers section—they're always on the lookout for brave souls to join their legion of AI developers, researchers, and safety experts shaping the future one neural net at a time.\n",
       "\n",
       "News? There's a livestream about their Foundation's commitments and structure, because you can’t have AI domination without a solid corporate manifesto. \n",
       "\n",
       "In short: OpenAI’s website is like an all-you-can-eat buffet of AI innovation with a side of ethical mumbo-jumbo and a hint of cutting-edge tech to make your job hunt worthwhile."
      ],
      "text/plain": [
       "<IPython.core.display.Markdown object>"
      ]
     },
     "metadata": {},
     "output_type": "display_data"
    }
   ],
   "source": [
    "display_summary('https://openai.com')"
   ]
  },
  {
   "cell_type": "markdown",
   "id": "8e4ef978",
   "metadata": {},
   "source": [
    "## PDF document summurizer"
   ]
  },
  {
   "cell_type": "code",
   "execution_count": 18,
   "id": "90212a68",
   "metadata": {},
   "outputs": [],
   "source": [
    "system_prompt = \"\"\"\n",
    "You are a precise, trustworthy summarizer. Be concise, factual, and neutral.\n",
    "Prefer extractive phrasing (use the document’s own wording) over invention.\n",
    "Preserve key numbers, names, and definitions. If unsure, say so.\n",
    "When the input includes page refs, keep them in the output.\n",
    "\n",
    "\"\"\"\n",
    "\n",
    "user_prompt = \"\"\"\n",
    "Summarize the following PDF chunk into 5–8 concise bullet points.\n",
    "– Preserve key facts, numbers, and definitions.\n",
    "– Include page refs if present in the chunk header.\n",
    "– Do not repeat points.\n",
    "– No opinions or speculation.\n",
    "\n",
    "\"\"\""
   ]
  },
  {
   "cell_type": "code",
   "execution_count": 19,
   "id": "25837960",
   "metadata": {},
   "outputs": [],
   "source": [
    "# message for pdf summarisations\n",
    "\n",
    "def message_for_pdf(text):\n",
    "    system_prompt = \"You are a precise, factual summarizer. Be concise and neutral.\"\n",
    "    user_prompt = \"Summarize the following PDF content in 6–10 concise bullet points:\\n\\n\"\n",
    "    messages = [\n",
    "        {\"role\":\"system\",\"content\":system_prompt},\n",
    "        {\"role\":\"user\",\"content\":user_prompt + text},\n",
    "    ]\n",
    "    return  messages\n"
   ]
  },
  {
   "cell_type": "code",
   "execution_count": 20,
   "id": "a2df1f46",
   "metadata": {},
   "outputs": [],
   "source": [
    "def llm_call(messages, model=\"gpt-4.1-mini\", temperature=0):\n",
    "    \"\"\"\n",
    "    messages: list of {\"role\": \"...\", \"content\": \"...\"} dicts\n",
    "    returns: string (assistant message content)\n",
    "    \"\"\"\n",
    "    resp = openai.chat.completions.create(\n",
    "        model=model,\n",
    "        messages=messages,\n",
    "        temperature=temperature,\n",
    "    )\n",
    "    return resp.choices[0].message.content.strip()"
   ]
  },
  {
   "cell_type": "code",
   "execution_count": 21,
   "id": "52b695eb",
   "metadata": {},
   "outputs": [],
   "source": [
    "def summarize_pdf_text(path, llm_call):\n",
    "    content = extract_pdf_text_any(path)\n",
    "    messages = message_for_pdf(content)\n",
    "\n",
    "    return llm_call(messages)\n"
   ]
  },
  {
   "cell_type": "code",
   "execution_count": 22,
   "id": "23c0efcc",
   "metadata": {},
   "outputs": [],
   "source": [
    "def display_pdf_summary(summary):\n",
    "    display(Markdown(summary))"
   ]
  },
  {
   "cell_type": "code",
   "execution_count": 24,
   "id": "511bf957",
   "metadata": {},
   "outputs": [
    {
     "name": "stderr",
     "output_type": "stream",
     "text": [
      "Could get FontBBox from font descriptor because None cannot be parsed as 4 floats\n"
     ]
    },
    {
     "name": "stderr",
     "output_type": "stream",
     "text": [
      "Could get FontBBox from font descriptor because None cannot be parsed as 4 floats\n",
      "Could get FontBBox from font descriptor because None cannot be parsed as 4 floats\n",
      "Could get FontBBox from font descriptor because None cannot be parsed as 4 floats\n"
     ]
    },
    {
     "data": {
      "text/markdown": [
       "- Statistics Nigeria is a sovereign, independent data intelligence company focused on transforming Nigeria and Africa’s understanding through verified, ethical, and AI-enhanced statistics across sectors like population, economy, environment, governance, and education.\n",
       "\n",
       "- Its mission is to empower Nigeria’s sustainable development by turning verified data into actionable insights, aiming to make Nigeria the most data-driven and truth-empowered nation in Africa.\n",
       "\n",
       "- Core values include integrity, objectivity, innovation (AI, blockchain, cloud), collaboration, inclusion, and impact, ensuring data is transparent, non-politicized, accessible, and drives measurable progress.\n",
       "\n",
       "- Key strategic domains cover Population & Society, Economy, Environment & Energy, Public Sector & Governance, Fact-Checking & Truth Intelligence, Education & Data Literacy, and Open Data & Innovation, each producing specialized reports, dashboards, and APIs.\n",
       "\n",
       "- The organization develops AI-powered fact-checking tools, misinformation detection models, and offers data literacy training, partnering with universities and media to build a data-literate society and protect Nigeria’s information ecosystem.\n",
       "\n",
       "- Statistics Nigeria is creating a National Data Governance and Privacy Framework emphasizing African data ethics, sovereign data principles, privacy by design, and independent oversight to ensure ethical, secure, and transparent data management.\n",
       "\n",
       "- Target users include government, businesses, media, researchers, educators, and citizens, providing them with reliable data for policymaking, economic planning, journalism, academic research, and informed civic participation.\n",
       "\n",
       "- Its impact goals are to build public trust through transparency, enable evidence-based leadership, promote critical data literacy among youth, establish an African-led data governance model, and position Nigeria as a continental hub for data innovation."
      ],
      "text/plain": [
       "<IPython.core.display.Markdown object>"
      ]
     },
     "metadata": {},
     "output_type": "display_data"
    }
   ],
   "source": [
    "path = 'content/Statistics NG.pdf'\n",
    "summary = summarize_pdf_text(path, llm_call)\n",
    "display_pdf_summary(summary)\n"
   ]
  }
 ],
 "metadata": {
  "kernelspec": {
   "display_name": "exploring-top-llms",
   "language": "python",
   "name": "python3"
  },
  "language_info": {
   "codemirror_mode": {
    "name": "ipython",
    "version": 3
   },
   "file_extension": ".py",
   "mimetype": "text/x-python",
   "name": "python",
   "nbconvert_exporter": "python",
   "pygments_lexer": "ipython3",
   "version": "3.13.5"
  }
 },
 "nbformat": 4,
 "nbformat_minor": 5
}
